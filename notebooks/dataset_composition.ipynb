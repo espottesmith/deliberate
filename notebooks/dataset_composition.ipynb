{
 "cells": [
  {
   "cell_type": "markdown",
   "id": "similar-booking",
   "metadata": {},
   "source": [
    "# dataset_composition.ipynb\n",
    "\n",
    "## Purpose of this notebook\n",
    "\n",
    "This notebook shows some basic examples of analysis that can be done to study the composition of the LIBE dataset. For instance, we look at the numbers of different species and different types of bonds that appear in the dataset, the different charges and spin multiplicities present, and the sizes of molecules as measured by the number of electrons.\n",
    "\n",
    "## What you get\n",
    "\n",
    "A series of bar plots."
   ]
  },
  {
   "cell_type": "code",
   "execution_count": null,
   "id": "wired-anchor",
   "metadata": {},
   "outputs": [],
   "source": [
    "from pathlib import Path\n",
    "\n",
    "import numpy as np\n",
    "import matplotlib.pyplot as plt\n",
    "import seaborn as sns\n",
    "from IPython.display import set_matplotlib_formats\n",
    "\n",
    "from monty.serialization import loadfn\n",
    "\n",
    "from pymatgen.core.periodic_table import Element\n",
    "from pymatgen.analysis.graphs import MoleculeGraph\n",
    "\n",
    "from deliberate.plotting import plot_bar\n",
    "\n",
    "set_matplotlib_formats(\"retina\")\n",
    "%matplotlib inline"
   ]
  },
  {
   "cell_type": "markdown",
   "id": "automated-suite",
   "metadata": {},
   "source": [
    "First, we need to load the dataset. This may take several minutes.\n",
    "\n",
    "Note that users will need to change `DATASET_PATH` to the path where the `libe.json` file is located (the dataset is not included in this repository)."
   ]
  },
  {
   "cell_type": "code",
   "execution_count": null,
   "id": "alpha-condition",
   "metadata": {},
   "outputs": [],
   "source": [
    "DATASET_PATH = \"libe.json\""
   ]
  },
  {
   "cell_type": "code",
   "execution_count": null,
   "id": "stupid-wallpaper",
   "metadata": {},
   "outputs": [],
   "source": [
    "data = loadfn(DATASET_PATH)"
   ]
  },
  {
   "cell_type": "markdown",
   "id": "computational-robert",
   "metadata": {},
   "source": [
    "First, we look at the absolute number of each element (C, F, H, Li, N, O, P, and S) are present in the dataset by summing over all molecules in the dataset. We find that C, H, and O are overrepresented in the dataset, and there is a relative paucity of N, P, and S. This makes sense, since P is only found in PF6 and associated molecules, while N and S only from from TFSI and FSI fragments."
   ]
  },
  {
   "cell_type": "code",
   "execution_count": null,
   "id": "binding-interstate",
   "metadata": {},
   "outputs": [],
   "source": [
    "all_species = np.concatenate([m[\"species\"] for m in data])\n",
    "\n",
    "plot_bar(\n",
    "    all_species,\n",
    "    x_label=\"Element\",\n",
    "    x_shift=-0.43,\n",
    "    y_shift=20,\n",
    ")"
   ]
  },
  {
   "cell_type": "markdown",
   "id": "declared-bunny",
   "metadata": {},
   "source": [
    "Then, we can look at how many unique molecules include each element. While C, H, and O still dominate (most molecules contain these three elements), the disparity is not so vast."
   ]
  },
  {
   "cell_type": "code",
   "execution_count": null,
   "id": "brown-quantum",
   "metadata": {},
   "outputs": [],
   "source": [
    "molecules_with_species = np.concatenate([list(set(m[\"species\"])) for m in data])\n",
    "plot_bar(\n",
    "    molecules_with_species,\n",
    "    x_label=\"Element\",\n",
    "    x_shift=-0.43,\n",
    "    y_shift=20\n",
    ")"
   ]
  },
  {
   "cell_type": "markdown",
   "id": "architectural-demographic",
   "metadata": {},
   "source": [
    "A more useful analysis might be looking at the bonding present in this dataset. As perhaps expected from the species information, the most common bonds are C-C, C-H, and C-O. Li-O bonds are also common, however. For most molecules in the dataset, oxygen is the most favored atom that can coordinate with Li."
   ]
  },
  {
   "cell_type": "code",
   "execution_count": null,
   "id": "fleet-appliance",
   "metadata": {},
   "outputs": [],
   "source": [
    "bond_types = list()\n",
    "for d in data:\n",
    "    if d[\"bonds\"] is not None:\n",
    "        for bd in d[\"bonds\"]:\n",
    "            bd_species = (d[\"species\"][bd[0]], d[\"species\"][bd[1]])\n",
    "            bd = \"-\".join(sorted(bd_species))\n",
    "            bond_types.append(bd)\n",
    "\n",
    "plot_bar(\n",
    "    bond_types,\n",
    "    x_label=\"Bond type\",\n",
    "    x_shift=-0.5,\n",
    "    y_shift=30,\n",
    "    fig_size=(18, 6),\n",
    ")"
   ]
  },
  {
   "cell_type": "markdown",
   "id": "younger-investigator",
   "metadata": {},
   "source": [
    "Looking at the number of bonds, we see a bell curve-like distribution with a long tail. Most molecules in LIBE are relatively small and contain a modest number of bonds, but there is a small number of much larger molecules containing many more bonds (up to 27)."
   ]
  },
  {
   "cell_type": "code",
   "execution_count": null,
   "id": "acute-eligibility",
   "metadata": {},
   "outputs": [],
   "source": [
    "num_bonds = [len(d[\"bonds\"]) for d in data]\n",
    "\n",
    "plot_bar(\n",
    "    num_bonds,\n",
    "    x_label=\"Number of bonds\",\n",
    "    x_shift=-0.5,\n",
    "    y_shift=2,\n",
    "    fig_size=(15, 6),\n",
    ")"
   ]
  },
  {
   "cell_type": "markdown",
   "id": "accessible-visiting",
   "metadata": {},
   "source": [
    "Now let's look at the distribution of molecule size as measured by the number of electrons. We plot this as a histogram to make the plot easier to read. We see a distribution that looks rather similar to the \"number of bonds\" plot above. Again, most molecules are relatively small, but there is a small set of somewhat larger molecules, with as many as 140 electrons."
   ]
  },
  {
   "cell_type": "code",
   "execution_count": null,
   "id": "motivated-screw",
   "metadata": {},
   "outputs": [],
   "source": [
    "nelectrons = list()\n",
    "for d in data:\n",
    "    N = sum([Element(s).Z for s in d[\"species\"]]) - d[\"charge\"]\n",
    "    nelectrons.append(N)\n",
    "\n",
    "plot_bar(\n",
    "    nelectrons,\n",
    "    x_label=\"Number of electrons\",\n",
    "    x_shift=-0.2,\n",
    "    y_shift=2,\n",
    "    fig_size=(18, 6),\n",
    "    font_scale=0.8,\n",
    "    num_bins=20\n",
    ")"
   ]
  },
  {
   "cell_type": "markdown",
   "id": "least-coverage",
   "metadata": {},
   "source": [
    "Finally, we can look at charges and spin multiplicities. Anionic molecules are favored over cationic species as well as neutral species, but the disparity is not so great. On the other hand, relatively few triplets were analyzed (triplet DFT calculations were only conducted on those singlets with less than 50 electrons, and not all of these calculations succeeded). "
   ]
  },
  {
   "cell_type": "code",
   "execution_count": null,
   "id": "sacred-prague",
   "metadata": {},
   "outputs": [],
   "source": [
    "charges = [d[\"charge\"] for d in data]\n",
    "\n",
    "plot_bar(\n",
    "    charges,\n",
    "    x_label=\"Molecule charge\",\n",
    "    x_shift=-0.1,\n",
    "    y_shift=10,\n",
    ")"
   ]
  },
  {
   "cell_type": "code",
   "execution_count": null,
   "id": "proper-kansas",
   "metadata": {},
   "outputs": [],
   "source": [
    "spins = [d[\"spin_multiplicity\"] for d in data]\n",
    "\n",
    "plot_bar(\n",
    "    spins,\n",
    "    x_label=\"Molecule spin multiplicity\",\n",
    "    x_shift=-0.1,\n",
    "    y_shift=10,\n",
    ")"
   ]
  }
 ],
 "metadata": {
  "kernelspec": {
   "display_name": "Python 3",
   "language": "python",
   "name": "python3"
  },
  "language_info": {
   "codemirror_mode": {
    "name": "ipython",
    "version": 3
   },
   "file_extension": ".py",
   "mimetype": "text/x-python",
   "name": "python",
   "nbconvert_exporter": "python",
   "pygments_lexer": "ipython3",
   "version": "3.7.4"
  }
 },
 "nbformat": 4,
 "nbformat_minor": 5
}
