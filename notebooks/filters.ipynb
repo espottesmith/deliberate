{
 "cells": [
  {
   "cell_type": "markdown",
   "id": "altered-relation",
   "metadata": {},
   "source": [
    "# filters.ipynb\n",
    "\n",
    "## Purpose of this notebook\n",
    "\n",
    "This notebook shows how you can filter the LIBE dataset in a variety of ways. While we have already filtered LIBE, it might be desirable to further limit the dataset for some application.\n",
    "\n",
    "A number of filters are currently defined in `src/deliberate/filters.py`:\n",
    "- `filter_by_charge_and_isomorphism`: Remove molecules that are isomorphic and have the same charge (taking, for instance, either the singlet or the triplet state, depending on which one has a lower electronic energy)\n",
    "- `filter_species`: Remove molecules including certain species\n",
    "- `filter_bond_species`: Remove molecules with certain types of bonds\n",
    "- `filter_bond_length`: Remove molecules with bond lengths much longer than is typical\n",
    "- `filter_num_bonds`: Remove molecules where any atoms have an inappropriate number of bonds (for instance, carbon having more than 4 bonds)\n",
    "\n",
    "Note that with the `filter_dataset` function, multiple filters can be applied in sequence. Additional filter functions could be added, provided that they return a `List[Dict]`.\n",
    "\n",
    "## What you get\n",
    "\n",
    "`final`, a somewhat reduced LIBE dataset."
   ]
  },
  {
   "cell_type": "code",
   "execution_count": null,
   "id": "entertaining-polymer",
   "metadata": {},
   "outputs": [],
   "source": [
    "from typing import Dict, List, Optional, Callable\n",
    "\n",
    "from monty.serialization import dumpfn, loadfn\n",
    "\n",
    "import deliberate.filters as filters"
   ]
  },
  {
   "cell_type": "markdown",
   "id": "inside-abraham",
   "metadata": {},
   "source": [
    "First, we need to load the dataset. This may take several minutes.\n",
    "\n",
    "Note that users will need to change `DATASET_PATH` to the path where the `libe.json` file is located (the dataset is not included in this repository)."
   ]
  },
  {
   "cell_type": "code",
   "execution_count": null,
   "id": "congressional-horse",
   "metadata": {},
   "outputs": [],
   "source": [
    "DATASET_PATH = \"libe.json\""
   ]
  },
  {
   "cell_type": "code",
   "execution_count": null,
   "id": "hearing-belly",
   "metadata": {},
   "outputs": [],
   "source": [
    "data = loadfn(DATASET_PATH)"
   ]
  },
  {
   "cell_type": "markdown",
   "id": "million-tradition",
   "metadata": {},
   "source": [
    "We'll first use each of the implemented filters individually to see their effect on the dataset."
   ]
  },
  {
   "cell_type": "code",
   "execution_count": null,
   "id": "blessed-blink",
   "metadata": {},
   "outputs": [],
   "source": [
    "by_charge_and_isomorhism = filters.filter_dataset(data,\n",
    "                                                  [filters.filter_by_charge_and_isomorphism])"
   ]
  },
  {
   "cell_type": "code",
   "execution_count": null,
   "id": "hearing-destination",
   "metadata": {},
   "outputs": [],
   "source": [
    "by_species = filters.filter_dataset(data,\n",
    "                                [filters.filter_species])"
   ]
  },
  {
   "cell_type": "code",
   "execution_count": null,
   "id": "improved-direction",
   "metadata": {},
   "outputs": [],
   "source": [
    "by_bond_species = filters.filter_dataset(data,\n",
    "                                         [filters.filter_bond_species])"
   ]
  },
  {
   "cell_type": "code",
   "execution_count": null,
   "id": "beautiful-barbados",
   "metadata": {},
   "outputs": [],
   "source": [
    "by_bond_length = filters.filter_dataset(data,\n",
    "                                        [filters.filter_bond_length])"
   ]
  },
  {
   "cell_type": "code",
   "execution_count": null,
   "id": "muslim-rover",
   "metadata": {},
   "outputs": [],
   "source": [
    "by_num_bonds = filters.filter_dataset(data,\n",
    "                                      [filters.filter_num_bonds])"
   ]
  },
  {
   "cell_type": "markdown",
   "id": "permanent-veteran",
   "metadata": {},
   "source": [
    "Now let's apply all of the filters that we just used in sequence!"
   ]
  },
  {
   "cell_type": "code",
   "execution_count": null,
   "id": "alternate-drink",
   "metadata": {},
   "outputs": [],
   "source": [
    "final = filters.filter_dataset(data,\n",
    "                               [filters.filter_by_charge_and_isomorphism,\n",
    "                                filters.filter_species,\n",
    "                                filters.filter_bond_species,\n",
    "                                filters.filter_bond_length,\n",
    "                                filters.filter_num_bonds])"
   ]
  }
 ],
 "metadata": {
  "kernelspec": {
   "display_name": "Python 3",
   "language": "python",
   "name": "python3"
  },
  "language_info": {
   "codemirror_mode": {
    "name": "ipython",
    "version": 3
   },
   "file_extension": ".py",
   "mimetype": "text/x-python",
   "name": "python",
   "nbconvert_exporter": "python",
   "pygments_lexer": "ipython3",
   "version": "3.7.4"
  }
 },
 "nbformat": 4,
 "nbformat_minor": 5
}
