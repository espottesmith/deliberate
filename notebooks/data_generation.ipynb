{
 "cells": [
  {
   "cell_type": "markdown",
   "id": "bored-delight",
   "metadata": {},
   "source": [
    "# data_generation.ipynb\n",
    "\n",
    "## Purpose of this notebook\n",
    "\n",
    "This notebook shows an example of a workflow to generate a set of molecules to study. Beginning with some principal molecules (in this case, Lithium Ethylene Carbonate (LiEC) and water (H2O), we first generate a small set of fragments and recombine these fragments to form new molecules. A similar principal-fragment-recombinant workflow was used to generate LIBE.\n",
    "\n",
    "## What you get\n",
    "\n",
    "A collection of fragment molecule graphs (`all_frags`) and recombinant molecules (`combos`). This notebook will also generate the input files necessary to use BonDNet to study the thermodynamics of the possible recombination reactions (for more details on BonDNet, see the [package documentation](https://github.com/mjwen/bondnet)).\n",
    "\n",
    "## What you DON'T get\n",
    "\n",
    "In LIBE, the recombinant molecules were limited by several filters. Only fragments that could be formed by exergonic pathways were allowed to recombine, and the recombinant molecules generated were limited by prediction of their stability (using BonDNet). Such filters are not employed here.\n",
    "\n",
    "An additional limitation is that we do not here show the user how to perform DFT calculations on the fragment or recombinant molecules. This was not included because some users of LIBE may not have access to Q-Chem, the DFT code used to generate this dataset."
   ]
  },
  {
   "cell_type": "code",
   "execution_count": null,
   "id": "attractive-orbit",
   "metadata": {},
   "outputs": [],
   "source": [
    "from pathlib import Path\n",
    "import copy\n",
    "\n",
    "from pymatgen.core.structure import Molecule\n",
    "from pymatgen.analysis.graphs import MoleculeGraph\n",
    "from pymatgen.analysis.local_env import OpenBabelNN, metal_edge_extender\n",
    "from pymatgen.analysis.fragmenter import Fragmenter\n",
    "\n",
    "import deliberate.recombination as recomb"
   ]
  },
  {
   "cell_type": "code",
   "execution_count": null,
   "id": "divine-latino",
   "metadata": {},
   "outputs": [],
   "source": [
    "molecules_dir = Path().resolve().parent / \"molecules\""
   ]
  },
  {
   "cell_type": "code",
   "execution_count": null,
   "id": "specialized-province",
   "metadata": {},
   "outputs": [],
   "source": [
    "liec = Molecule.from_file((molecules_dir / \"LiEC.xyz\").as_posix())\n",
    "h2o = Molecule.from_file((molecules_dir / \"H2O.xyz\").as_posix())"
   ]
  },
  {
   "cell_type": "markdown",
   "id": "patent-saturn",
   "metadata": {},
   "source": [
    "In a single-step fragmentation process (`depth=1`), all bonds are broken in the initial molecule (here, water), and the resulting molecule sub-graphs are gathered to generate a dictionary of fragments. The resulting dictionary (`water_frags`) has alphabetical formulas as keys (in this example, `H1 O1` and `H1` will be keys), and lists of MoleculeGraphs as values."
   ]
  },
  {
   "cell_type": "code",
   "execution_count": null,
   "id": "impaired-architect",
   "metadata": {},
   "outputs": [],
   "source": [
    "water_frags = Fragmenter(h2o, depth=1)\n",
    "print(\"Number of fragments from water:\", water_frags.total_unique_fragments)"
   ]
  },
  {
   "cell_type": "markdown",
   "id": "wired-judgment",
   "metadata": {},
   "source": [
    "Because ethylene carbonate has a ring structure, we have to declare `open_rings=True`. This will use a cheap force-field method to generate an initial structure of the molecule with each ring-bond broken. We also include the fragments from `water_frags` so that duplicate fragments are not generated."
   ]
  },
  {
   "cell_type": "code",
   "execution_count": null,
   "id": "respective-establishment",
   "metadata": {},
   "outputs": [],
   "source": [
    "all_frags = Fragmenter(liec, depth=1, open_rings=True, prev_unique_frag_dict=water_frags.unique_frag_dict)\n",
    "print(\"Total number of fragments (H2O + LiEC):\", all_frags.total_unique_fragments)"
   ]
  },
  {
   "cell_type": "code",
   "execution_count": null,
   "id": "basic-guitar",
   "metadata": {},
   "outputs": [],
   "source": [
    "charges = [-1, 0, 1]\n",
    "all_molecule_graphs = list()\n",
    "\n",
    "# Add all fragments\n",
    "for _, fragment_list in all_frags.unique_frag_dict.items():\n",
    "    for fragment in fragment_list:\n",
    "        for charge in charges:\n",
    "            mg = copy.deepcopy(fragment)\n",
    "            mg.molecule.set_charge_and_spin(charge)\n",
    "            all_molecule_graphs.append(mg)\n",
    "        \n",
    "# Also add principal molecules\n",
    "for charge in charges:\n",
    "    h2o_mg = MoleculeGraph.with_local_env_strategy(h2o, OpenBabelNN())\n",
    "    h2o_mg.molecule.set_charge_and_spin(charge)\n",
    "    all_molecule_graphs.append(h2o_mg)\n",
    "    \n",
    "    liec_mg = MoleculeGraph.with_local_env_strategy(liec, OpenBabelNN())\n",
    "    liec_mg = metal_edge_extender(liec_mg)\n",
    "    liec_mg.molecule.set_charge_and_spin(charge)\n",
    "    all_molecule_graphs.append(liec_mg)"
   ]
  },
  {
   "cell_type": "code",
   "execution_count": null,
   "id": "animated-ivory",
   "metadata": {},
   "outputs": [],
   "source": [
    "print(\"Total number of molecule graphs:\", len(all_molecule_graphs))"
   ]
  },
  {
   "cell_type": "markdown",
   "id": "formed-holly",
   "metadata": {},
   "source": [
    "After generating fragments, we then use those fragments (and the principal molecules) to generate new recombinant molecules. Details on this process can be found in `src/deliberate/recombination.py` in this repository. In brief, the process is:\n",
    "1. Each molecule graph in the initial set is examined to see what sites, if any, are available for bonding. This is based on valence rules - for instance, a carbon atom will be considered available if it has less than 4 bonds. Hydrogen and lithium are only allowed to recombine if they are not bonded to anything (they are isolated atoms)\n",
    "2. Each molecule is allowed to recombine with each other molecule (including itself) via all possible combinations of available sites.\n",
    "\n",
    "As a byproduct of this process, two files will be generated: `combos.txt` contains indices relevant to recombination \"reactions\", and `mol_graphs_recombination.json` contains all recombinant molecule graphs.\n",
    "\n",
    "#### NOTE: generating combinations is a rather slow process. The next cell may take several minutes to run! It should also be noted that generating recombinant molecules is inherently combinatorially and scales accordingly."
   ]
  },
  {
   "cell_type": "code",
   "execution_count": null,
   "id": "raising-wallpaper",
   "metadata": {},
   "outputs": [],
   "source": [
    "combos = recomb.generate_combinations(all_molecule_graphs, Path(\".\").resolve())"
   ]
  },
  {
   "cell_type": "code",
   "execution_count": null,
   "id": "further-relative",
   "metadata": {},
   "outputs": [],
   "source": [
    "print(\"Number of recombinant molecules generated\", len(combos))"
   ]
  },
  {
   "cell_type": "markdown",
   "id": "approved-iraqi",
   "metadata": {},
   "source": [
    "In an actual workflow, we would use BonDNet to predict the bond dissociation energies for each bond formed via a recombination reaction. This is a way to predict which recombinant molecules should be expected to be stable. While we do not here demonstrate the use of BonDNet, the following cell will generate all files necessary to use BonDNet on this test dataset."
   ]
  },
  {
   "cell_type": "code",
   "execution_count": null,
   "id": "increased-carol",
   "metadata": {},
   "outputs": [],
   "source": [
    "recomb.generate_bondnet_files(all_molecule_graphs, combos, recomb.parse_combinations_file(Path(\".\").resolve() / \"combinations.txt\"), Path(\".\"))"
   ]
  }
 ],
 "metadata": {
  "kernelspec": {
   "display_name": "Python 3",
   "language": "python",
   "name": "python3"
  },
  "language_info": {
   "codemirror_mode": {
    "name": "ipython",
    "version": 3
   },
   "file_extension": ".py",
   "mimetype": "text/x-python",
   "name": "python",
   "nbconvert_exporter": "python",
   "pygments_lexer": "ipython3",
   "version": "3.7.4"
  }
 },
 "nbformat": 4,
 "nbformat_minor": 5
}
