{
 "cells": [
  {
   "cell_type": "code",
   "execution_count": 17,
   "id": "interracial-temperature",
   "metadata": {},
   "outputs": [
    {
     "data": {
      "text/plain": [
       "<module 'utils' from '/Users/ewcss/software/deliberate/utils.py'>"
      ]
     },
     "execution_count": 17,
     "metadata": {},
     "output_type": "execute_result"
    }
   ],
   "source": [
    "from typing import Dict, List, Optional, Callable\n",
    "import importlib\n",
    "\n",
    "from monty.serialization import dumpfn, loadfn\n",
    "\n",
    "import utils"
   ]
  },
  {
   "cell_type": "code",
   "execution_count": 5,
   "id": "accessible-growth",
   "metadata": {},
   "outputs": [],
   "source": [
    "DATASET_PATH = \"/Users/ewcss/Documents/grad/publications/2021/li_dataset/data/libe.json\""
   ]
  },
  {
   "cell_type": "code",
   "execution_count": 6,
   "id": "chicken-vault",
   "metadata": {},
   "outputs": [],
   "source": [
    "data = loadfn(DATASET_PATH)"
   ]
  },
  {
   "cell_type": "code",
   "execution_count": 19,
   "id": "sporting-certification",
   "metadata": {},
   "outputs": [
    {
     "ename": "TypeError",
     "evalue": "filter_dataset() missing 1 required positional argument: 'bond_species'",
     "output_type": "error",
     "traceback": [
      "\u001b[0;31m---------------------------------------------------------------------------\u001b[0m",
      "\u001b[0;31mTypeError\u001b[0m                                 Traceback (most recent call last)",
      "\u001b[0;32m<ipython-input-19-8de9b4eaa9ba>\u001b[0m in \u001b[0;36m<module>\u001b[0;34m\u001b[0m\n\u001b[1;32m      5\u001b[0m                        \u001b[0mutils\u001b[0m\u001b[0;34m.\u001b[0m\u001b[0mfilter_bond_species\u001b[0m\u001b[0;34m,\u001b[0m\u001b[0;34m\u001b[0m\u001b[0;34m\u001b[0m\u001b[0m\n\u001b[1;32m      6\u001b[0m                        \u001b[0mutils\u001b[0m\u001b[0;34m.\u001b[0m\u001b[0mfilter_bond_length\u001b[0m\u001b[0;34m,\u001b[0m\u001b[0;34m\u001b[0m\u001b[0;34m\u001b[0m\u001b[0m\n\u001b[0;32m----> 7\u001b[0;31m                        utils.filter_num_bonds])\n\u001b[0m",
      "\u001b[0;31mTypeError\u001b[0m: filter_dataset() missing 1 required positional argument: 'bond_species'"
     ]
    }
   ],
   "source": [
    "final = utils.filter_dataset(data,\n",
    "                      [utils.filter_by_charge_and_isomorphism,\n",
    "                       utils.filter_connectivity,\n",
    "                       utils.filter_species,\n",
    "                       utils.filter_bond_species,\n",
    "                       utils.filter_bond_length,\n",
    "                       utils.filter_num_bonds])"
   ]
  },
  {
   "cell_type": "code",
   "execution_count": null,
   "id": "metallic-encoding",
   "metadata": {},
   "outputs": [],
   "source": []
  }
 ],
 "metadata": {
  "kernelspec": {
   "display_name": "Python 3",
   "language": "python",
   "name": "python3"
  },
  "language_info": {
   "codemirror_mode": {
    "name": "ipython",
    "version": 3
   },
   "file_extension": ".py",
   "mimetype": "text/x-python",
   "name": "python",
   "nbconvert_exporter": "python",
   "pygments_lexer": "ipython3",
   "version": "3.7.4"
  }
 },
 "nbformat": 4,
 "nbformat_minor": 5
}
