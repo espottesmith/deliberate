{
 "cells": [
  {
   "cell_type": "code",
   "execution_count": 6,
   "id": "painted-orange",
   "metadata": {},
   "outputs": [],
   "source": [
    "import importlib\n",
    "\n",
    "from monty.serialization import dumpfn, loadfn\n",
    "\n",
    "from pymatgen import Element\n",
    "\n",
    "import utils"
   ]
  },
  {
   "cell_type": "code",
   "execution_count": 2,
   "id": "correct-apache",
   "metadata": {},
   "outputs": [],
   "source": [
    "DATASET_PATH = \"/Users/ewcss/Documents/grad/publications/2021/li_dataset/data/libe.json\""
   ]
  },
  {
   "cell_type": "code",
   "execution_count": 3,
   "id": "miniature-command",
   "metadata": {},
   "outputs": [],
   "source": [
    "data = loadfn(DATASET_PATH)"
   ]
  },
  {
   "cell_type": "code",
   "execution_count": 7,
   "id": "threatened-enzyme",
   "metadata": {},
   "outputs": [],
   "source": [
    "# First, look at gaps between singlets and triplets\n",
    "small_singlets = list()\n",
    "triplets = list()\n",
    "for m in data:\n",
    "    # Only molecules with < 50 electrons were calculated in triplet state\n",
    "    if sum([Element(s).Z for s in m[\"species\"]]) - m[\"charge\"] >= 50:\n",
    "        continue\n",
    "    \n",
    "    if m[\"spin_multiplicity\"] == 1:\n",
    "        small_singlets.append(m)\n",
    "    elif m[\"spin_multiplicity\"] == 3:\n",
    "        triplets.append(m)"
   ]
  },
  {
   "cell_type": "code",
   "execution_count": 8,
   "id": "working-charleston",
   "metadata": {},
   "outputs": [
    {
     "name": "stdout",
     "output_type": "stream",
     "text": [
      "Singlets 2809\n",
      "Triplets 2386\n"
     ]
    }
   ],
   "source": [
    "print(\"Singlets\", len(small_singlets))\n",
    "print(\"Triplets\", len(triplets))"
   ]
  },
  {
   "cell_type": "code",
   "execution_count": 13,
   "id": "catholic-participation",
   "metadata": {},
   "outputs": [],
   "source": [
    "match = 0\n",
    "pairs = list()\n",
    "for triplet in triplets:\n",
    "    for singlet in small_singlets:\n",
    "        if triplet[\"molecule_graph\"].isomorphic_to(singlet[\"molecule_graph\"]) and triplet[\"charge\"] == singlet[\"charge\"]:\n",
    "            match += 1\n",
    "            pairs.append((singlet, triplet))\n",
    "            break"
   ]
  },
  {
   "cell_type": "code",
   "execution_count": 14,
   "id": "raising-launch",
   "metadata": {},
   "outputs": [
    {
     "name": "stdout",
     "output_type": "stream",
     "text": [
      "Triplets with no matching singlet (defined by isomorphism and charge): 447\n"
     ]
    }
   ],
   "source": [
    "print(\"Triplets with no matching singlet (defined by isomorphism and charge): {}\".format(len(triplets) - match))"
   ]
  },
  {
   "cell_type": "code",
   "execution_count": 16,
   "id": "failing-exclusion",
   "metadata": {},
   "outputs": [],
   "source": [
    "singlet_lower = 0\n",
    "for pair in pairs:\n",
    "    if pair[0][\"thermo\"][\"raw\"][\"electronic_energy_Ha\"] < pair[1][\"thermo\"][\"raw\"][\"electronic_energy_Ha\"]:\n",
    "        singlet_lower += 1"
   ]
  },
  {
   "cell_type": "code",
   "execution_count": 17,
   "id": "agricultural-speech",
   "metadata": {},
   "outputs": [
    {
     "name": "stdout",
     "output_type": "stream",
     "text": [
      "Singlet lower in 1708 out of 1939 cases (88.08664259927798 %)\n"
     ]
    }
   ],
   "source": [
    "print(\"Singlet lower in {} out of {} cases ({} %)\".format(singlet_lower, len(pairs), singlet_lower / len(pairs) * 100))"
   ]
  },
  {
   "cell_type": "code",
   "execution_count": null,
   "id": "authentic-click",
   "metadata": {},
   "outputs": [],
   "source": []
  }
 ],
 "metadata": {
  "kernelspec": {
   "display_name": "Python 3",
   "language": "python",
   "name": "python3"
  },
  "language_info": {
   "codemirror_mode": {
    "name": "ipython",
    "version": 3
   },
   "file_extension": ".py",
   "mimetype": "text/x-python",
   "name": "python",
   "nbconvert_exporter": "python",
   "pygments_lexer": "ipython3",
   "version": "3.7.4"
  }
 },
 "nbformat": 4,
 "nbformat_minor": 5
}
